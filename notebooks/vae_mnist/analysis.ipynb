{
 "cells": [
  {
   "cell_type": "code",
   "execution_count": null,
   "metadata": {},
   "outputs": [],
   "source": [
    "import sys\n",
    "sys.path.append('../..')"
   ]
  },
  {
   "cell_type": "markdown",
   "metadata": {},
   "source": [
    "## Load trained model"
   ]
  },
  {
   "cell_type": "code",
   "execution_count": null,
   "metadata": {},
   "outputs": [],
   "source": [
    "from vae_mnist import VariationalAutoEncoder\n",
    "\n",
    "checkpoint_path = '../../lightning_logs/vae_mnist/version_0/checkpoints/epoch=173-step=326249.ckpt'\n",
    "model = VariationalAutoEncoder.load_from_checkpoint(checkpoint_path)\n",
    "model.eval()"
   ]
  },
  {
   "cell_type": "code",
   "execution_count": null,
   "metadata": {},
   "outputs": [],
   "source": [
    "model.encoder"
   ]
  },
  {
   "cell_type": "markdown",
   "metadata": {},
   "source": [
    "## Load test data"
   ]
  },
  {
   "cell_type": "code",
   "execution_count": null,
   "metadata": {},
   "outputs": [],
   "source": [
    "from torch.utils.data import DataLoader\n",
    "from torchvision.datasets import MNIST\n",
    "from torchvision import transforms\n",
    "\n",
    "val_dataset = MNIST(root='../../data', train=False, transform=transforms.ToTensor(), download=True)\n",
    "val_loader = DataLoader(dataset=val_dataset, batch_size=10, shuffle=True)"
   ]
  },
  {
   "cell_type": "code",
   "execution_count": null,
   "metadata": {},
   "outputs": [],
   "source": [
    "imgs, labels = next(iter(val_loader))\n",
    "imgs.shape, labels"
   ]
  },
  {
   "cell_type": "markdown",
   "metadata": {},
   "source": [
    "## Reconstruction"
   ]
  },
  {
   "cell_type": "code",
   "execution_count": null,
   "metadata": {},
   "outputs": [],
   "source": [
    "mu, logvar = model.encoder(imgs)\n",
    "mu.shape"
   ]
  },
  {
   "cell_type": "code",
   "execution_count": null,
   "metadata": {},
   "outputs": [],
   "source": [
    "z = model.reparameterize(mu, logvar)\n",
    "recon_imgs = model.decoder(z)\n",
    "recon_imgs.shape"
   ]
  },
  {
   "cell_type": "code",
   "execution_count": null,
   "metadata": {},
   "outputs": [],
   "source": [
    "import matplotlib.pyplot as plt\n",
    "\n",
    "fig = plt.figure(figsize=(15, 3))\n",
    "\n",
    "for i in range(10):\n",
    "    img = imgs[i].squeeze()\n",
    "    ax = fig.add_subplot(2, 10, i + 1)\n",
    "    ax.axis('off')\n",
    "    ax.imshow(img, cmap='gray_r')\n",
    "\n",
    "for i in range(10):\n",
    "    img = recon_imgs[i].squeeze().detach().numpy()\n",
    "    ax = fig.add_subplot(2, 10, i + 10 + 1)\n",
    "    ax.axis('off')\n",
    "    ax.imshow(img, cmap='gray_r')"
   ]
  },
  {
   "cell_type": "markdown",
   "metadata": {},
   "source": [
    "## Latent space"
   ]
  },
  {
   "cell_type": "code",
   "execution_count": null,
   "metadata": {},
   "outputs": [],
   "source": [
    "val_loader = DataLoader(dataset=val_dataset, batch_size=5000, shuffle=True)\n",
    "imgs, labels = next(iter(val_loader))\n",
    "imgs.shape, labels.shape"
   ]
  },
  {
   "cell_type": "code",
   "execution_count": null,
   "metadata": {},
   "outputs": [],
   "source": [
    "mu, logvar = model.encoder(imgs)\n",
    "mu = mu.detach().numpy()\n",
    "logvar = logvar.detach().numpy()\n",
    "mu.shape, logvar.shape"
   ]
  },
  {
   "cell_type": "code",
   "execution_count": null,
   "metadata": {},
   "outputs": [],
   "source": [
    "plt.figure(figsize=(12, 12))\n",
    "plt.scatter(mu[:, 0], mu[:, 1], cmap='rainbow', c=labels, alpha=0.5, s=2)\n",
    "plt.colorbar()\n",
    "plt.show()"
   ]
  }
 ],
 "metadata": {
  "interpreter": {
   "hash": "e25e2629558b79608940033d3d6f963da8cb72ba949008c9a3603872092284cb"
  },
  "kernelspec": {
   "display_name": "Python 3.8.6 64-bit ('venv': venv)",
   "language": "python",
   "name": "python3"
  },
  "language_info": {
   "codemirror_mode": {
    "name": "ipython",
    "version": 3
   },
   "file_extension": ".py",
   "mimetype": "text/x-python",
   "name": "python",
   "nbconvert_exporter": "python",
   "pygments_lexer": "ipython3",
   "version": "3.8.6"
  },
  "orig_nbformat": 4
 },
 "nbformat": 4,
 "nbformat_minor": 2
}
