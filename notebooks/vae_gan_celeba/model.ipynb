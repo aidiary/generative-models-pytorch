{
 "cells": [
  {
   "cell_type": "code",
   "execution_count": 21,
   "metadata": {},
   "outputs": [],
   "source": [
    "import torch\n",
    "import torch.nn as nn\n",
    "import pytorch_lightning as pl\n",
    "import torchinfo"
   ]
  },
  {
   "cell_type": "code",
   "execution_count": 26,
   "metadata": {},
   "outputs": [],
   "source": [
    "class Encoder(nn.Module):\n",
    "    def __init__(self):\n",
    "        super(Encoder, self).__init__()\n",
    "        self.conv_layers = nn.Sequential(\n",
    "            nn.Conv2d(3, 64, kernel_size=5, stride=2, padding=2),\n",
    "            nn.BatchNorm2d(64, momentum=0.9),\n",
    "            nn.LeakyReLU(0.2),\n",
    "            nn.Conv2d(64, 128, kernel_size=5, stride=2, padding=2),\n",
    "            nn.BatchNorm2d(128, momentum=0.9),\n",
    "            nn.LeakyReLU(0.2),\n",
    "            nn.Conv2d(128, 256, kernel_size=5, stride=2, padding=2),\n",
    "            nn.BatchNorm2d(256, momentum=0.9),\n",
    "            nn.LeakyReLU(0.2),\n",
    "        )\n",
    "\n",
    "        self.fc = nn.Sequential(\n",
    "            nn.Linear(256 * 8 * 8, 2048),\n",
    "            nn.BatchNorm1d(2048, momentum=0.9),\n",
    "            nn.LeakyReLU(0.2),\n",
    "        )\n",
    "\n",
    "        self.mu_layer = nn.Linear(2048, 128)\n",
    "        self.var_layer = nn.Linear(2048, 128)\n",
    "\n",
    "    def forward(self, imgs):\n",
    "        out = self.conv_layers(imgs)\n",
    "        out = nn.Flatten()(out)\n",
    "        out = self.fc(out)\n",
    "        mu = self.mu_layer(out)\n",
    "        logvar = self.var_layer(out)\n",
    "        return mu, logvar"
   ]
  },
  {
   "cell_type": "code",
   "execution_count": 27,
   "metadata": {},
   "outputs": [
    {
     "name": "stdout",
     "output_type": "stream",
     "text": [
      "Encoder(\n",
      "  (conv_layers): Sequential(\n",
      "    (0): Conv2d(3, 64, kernel_size=(5, 5), stride=(2, 2), padding=(2, 2))\n",
      "    (1): BatchNorm2d(64, eps=1e-05, momentum=0.9, affine=True, track_running_stats=True)\n",
      "    (2): LeakyReLU(negative_slope=0.2)\n",
      "    (3): Conv2d(64, 128, kernel_size=(5, 5), stride=(2, 2), padding=(2, 2))\n",
      "    (4): BatchNorm2d(128, eps=1e-05, momentum=0.9, affine=True, track_running_stats=True)\n",
      "    (5): LeakyReLU(negative_slope=0.2)\n",
      "    (6): Conv2d(128, 256, kernel_size=(5, 5), stride=(2, 2), padding=(2, 2))\n",
      "    (7): BatchNorm2d(256, eps=1e-05, momentum=0.9, affine=True, track_running_stats=True)\n",
      "    (8): LeakyReLU(negative_slope=0.2)\n",
      "  )\n",
      "  (fc): Sequential(\n",
      "    (0): Linear(in_features=16384, out_features=2048, bias=True)\n",
      "    (1): BatchNorm1d(2048, eps=1e-05, momentum=0.9, affine=True, track_running_stats=True)\n",
      "    (2): LeakyReLU(negative_slope=0.2)\n",
      "  )\n",
      "  (mu_layer): Linear(in_features=2048, out_features=128, bias=True)\n",
      "  (var_layer): Linear(in_features=2048, out_features=128, bias=True)\n",
      ")\n",
      "torch.Size([64, 128]) torch.Size([64, 128])\n"
     ]
    }
   ],
   "source": [
    "# TEST ENCODER\n",
    "encoder = Encoder()\n",
    "print(encoder)\n",
    "imgs = torch.randn(64, 3, 64, 64)\n",
    "mu, logvar = encoder(imgs)\n",
    "print(mu.shape, logvar.shape)"
   ]
  },
  {
   "cell_type": "code",
   "execution_count": 28,
   "metadata": {},
   "outputs": [
    {
     "data": {
      "text/plain": [
       "==========================================================================================\n",
       "Layer (type:depth-idx)                   Output Shape              Param #\n",
       "==========================================================================================\n",
       "Encoder                                  --                        --\n",
       "├─Sequential: 1-1                        [64, 256, 8, 8]           --\n",
       "│    └─Conv2d: 2-1                       [64, 64, 32, 32]          4,864\n",
       "│    └─BatchNorm2d: 2-2                  [64, 64, 32, 32]          128\n",
       "│    └─LeakyReLU: 2-3                    [64, 64, 32, 32]          --\n",
       "│    └─Conv2d: 2-4                       [64, 128, 16, 16]         204,928\n",
       "│    └─BatchNorm2d: 2-5                  [64, 128, 16, 16]         256\n",
       "│    └─LeakyReLU: 2-6                    [64, 128, 16, 16]         --\n",
       "│    └─Conv2d: 2-7                       [64, 256, 8, 8]           819,456\n",
       "│    └─BatchNorm2d: 2-8                  [64, 256, 8, 8]           512\n",
       "│    └─LeakyReLU: 2-9                    [64, 256, 8, 8]           --\n",
       "├─Sequential: 1-2                        [64, 2048]                --\n",
       "│    └─Linear: 2-10                      [64, 2048]                33,556,480\n",
       "│    └─BatchNorm1d: 2-11                 [64, 2048]                4,096\n",
       "│    └─LeakyReLU: 2-12                   [64, 2048]                --\n",
       "├─Linear: 1-3                            [64, 128]                 262,272\n",
       "├─Linear: 1-4                            [64, 128]                 262,272\n",
       "==========================================================================================\n",
       "Total params: 35,115,264\n",
       "Trainable params: 35,115,264\n",
       "Non-trainable params: 0\n",
       "Total mult-adds (G): 9.21\n",
       "==========================================================================================\n",
       "Input size (MB): 3.15\n",
       "Forward/backward pass size (MB): 119.67\n",
       "Params size (MB): 140.46\n",
       "Estimated Total Size (MB): 263.28\n",
       "=========================================================================================="
      ]
     },
     "execution_count": 28,
     "metadata": {},
     "output_type": "execute_result"
    }
   ],
   "source": [
    "torchinfo.summary(encoder, input_size=(64, 3, 64, 64))"
   ]
  },
  {
   "cell_type": "code",
   "execution_count": 29,
   "metadata": {},
   "outputs": [],
   "source": [
    "class Decoder(nn.Module):\n",
    "    def __init__(self):\n",
    "        super(Decoder, self).__init__()\n",
    "        self.fc = nn.Sequential(\n",
    "            nn.Linear(128, 256 * 8 * 8, bias=False),\n",
    "            nn.BatchNorm1d(256 * 8 * 8, momentum=0.9),\n",
    "            nn.LeakyReLU(0.2),\n",
    "        )\n",
    "\n",
    "        self.deconv_layers = nn.Sequential(\n",
    "            nn.ConvTranspose2d(256, 256, kernel_size=5, stride=2, padding=2, output_padding=1, bias=False),\n",
    "            nn.BatchNorm2d(256, momentum=0.9),\n",
    "            nn.LeakyReLU(0.2),\n",
    "            nn.ConvTranspose2d(256, 128, kernel_size=5, stride=2, padding=2, output_padding=1, bias=False),\n",
    "            nn.BatchNorm2d(128, momentum=0.9),\n",
    "            nn.LeakyReLU(0.2),\n",
    "            nn.ConvTranspose2d(128, 64, kernel_size=5, stride=2, padding=2, output_padding=1, bias=False),\n",
    "            nn.BatchNorm2d(64, momentum=0.9),\n",
    "            nn.LeakyReLU(0.2),\n",
    "            nn.ConvTranspose2d(64, 3, kernel_size=5, stride=2, padding=2, output_padding=1, bias=False),\n",
    "            nn.Tanh(),            \n",
    "        )\n",
    "\n",
    "    def forward(self, z):\n",
    "        out = self.fc(z)\n",
    "        out = out.view(-1, 256, 8, 8)\n",
    "        recon_imgs = self.deconv_layers(out)\n",
    "        return recon_imgs"
   ]
  },
  {
   "cell_type": "code",
   "execution_count": 30,
   "metadata": {},
   "outputs": [
    {
     "name": "stdout",
     "output_type": "stream",
     "text": [
      "Decoder(\n",
      "  (fc): Sequential(\n",
      "    (0): Linear(in_features=128, out_features=16384, bias=False)\n",
      "    (1): BatchNorm1d(16384, eps=1e-05, momentum=0.9, affine=True, track_running_stats=True)\n",
      "    (2): LeakyReLU(negative_slope=0.2)\n",
      "  )\n",
      "  (deconv_layers): Sequential(\n",
      "    (0): ConvTranspose2d(256, 256, kernel_size=(5, 5), stride=(2, 2), padding=(2, 2), output_padding=(1, 1), bias=False)\n",
      "    (1): BatchNorm2d(256, eps=1e-05, momentum=0.9, affine=True, track_running_stats=True)\n",
      "    (2): LeakyReLU(negative_slope=0.2)\n",
      "    (3): ConvTranspose2d(256, 128, kernel_size=(5, 5), stride=(2, 2), padding=(2, 2), output_padding=(1, 1), bias=False)\n",
      "    (4): BatchNorm2d(128, eps=1e-05, momentum=0.9, affine=True, track_running_stats=True)\n",
      "    (5): LeakyReLU(negative_slope=0.2)\n",
      "    (6): ConvTranspose2d(128, 64, kernel_size=(5, 5), stride=(2, 2), padding=(2, 2), output_padding=(1, 1), bias=False)\n",
      "    (7): BatchNorm2d(64, eps=1e-05, momentum=0.9, affine=True, track_running_stats=True)\n",
      "    (8): LeakyReLU(negative_slope=0.2)\n",
      "    (9): ConvTranspose2d(64, 3, kernel_size=(5, 5), stride=(2, 2), padding=(2, 2), output_padding=(1, 1), bias=False)\n",
      "    (10): Tanh()\n",
      "  )\n",
      ")\n",
      "torch.Size([64, 128])\n",
      "torch.Size([64, 3, 128, 128])\n"
     ]
    }
   ],
   "source": [
    "decoder = Decoder()\n",
    "print(decoder)\n",
    "sigma = torch.exp(0.5 * logvar)\n",
    "epsilon = torch.randn_like(sigma)\n",
    "z = mu + sigma * epsilon\n",
    "print(z.shape)\n",
    "recon_imgs = decoder(z)\n",
    "print(recon_imgs.shape)"
   ]
  },
  {
   "cell_type": "code",
   "execution_count": 41,
   "metadata": {},
   "outputs": [],
   "source": [
    "class Discriminator(nn.Module):\n",
    "    def __init__(self):\n",
    "        super(Discriminator, self).__init__()\n",
    "        self.conv_layers = nn.Sequential(\n",
    "            nn.Conv2d(3, 32, kernel_size=5, stride=1, padding=2),\n",
    "            nn.LeakyReLU(0.2),\n",
    "            nn.Conv2d(32, 128, kernel_size=5, stride=2, padding=2),\n",
    "            nn.BatchNorm2d(128, momentum=0.9),\n",
    "            nn.LeakyReLU(0.2),\n",
    "            nn.Conv2d(128, 256, kernel_size=5, stride=2, padding=2),\n",
    "            nn.BatchNorm2d(256, momentum=0.9),\n",
    "            nn.LeakyReLU(0.2),\n",
    "            nn.Conv2d(256, 256, kernel_size=5, stride=2, padding=2),\n",
    "            nn.BatchNorm2d(256, momentum=0.9),\n",
    "            nn.LeakyReLU(0.2),\n",
    "        )\n",
    "\n",
    "        self.fc = nn.Sequential(\n",
    "            nn.Linear(256 * 8 * 8, 512),\n",
    "            nn.BatchNorm1d(512, momentum=0.9),\n",
    "            nn.LeakyReLU(0.2),\n",
    "            nn.Linear(512, 1),\n",
    "            nn.Sigmoid(),\n",
    "        )\n",
    "\n",
    "    def forward(self, imgs):\n",
    "        out = self.conv_layers(imgs)\n",
    "        out = nn.Flatten()(out)\n",
    "        bottleneck = out\n",
    "        out = self.fc(out)\n",
    "        return out, bottleneck"
   ]
  },
  {
   "cell_type": "code",
   "execution_count": 42,
   "metadata": {},
   "outputs": [
    {
     "name": "stdout",
     "output_type": "stream",
     "text": [
      "Discriminator(\n",
      "  (conv_layers): Sequential(\n",
      "    (0): Conv2d(3, 32, kernel_size=(5, 5), stride=(1, 1), padding=(2, 2))\n",
      "    (1): LeakyReLU(negative_slope=0.2)\n",
      "    (2): Conv2d(32, 128, kernel_size=(5, 5), stride=(2, 2), padding=(2, 2))\n",
      "    (3): BatchNorm2d(128, eps=1e-05, momentum=0.9, affine=True, track_running_stats=True)\n",
      "    (4): LeakyReLU(negative_slope=0.2)\n",
      "    (5): Conv2d(128, 256, kernel_size=(5, 5), stride=(2, 2), padding=(2, 2))\n",
      "    (6): BatchNorm2d(256, eps=1e-05, momentum=0.9, affine=True, track_running_stats=True)\n",
      "    (7): LeakyReLU(negative_slope=0.2)\n",
      "    (8): Conv2d(256, 256, kernel_size=(5, 5), stride=(2, 2), padding=(2, 2))\n",
      "    (9): BatchNorm2d(256, eps=1e-05, momentum=0.9, affine=True, track_running_stats=True)\n",
      "    (10): LeakyReLU(negative_slope=0.2)\n",
      "  )\n",
      "  (fc): Sequential(\n",
      "    (0): Linear(in_features=16384, out_features=512, bias=True)\n",
      "    (1): BatchNorm1d(512, eps=1e-05, momentum=0.9, affine=True, track_running_stats=True)\n",
      "    (2): LeakyReLU(negative_slope=0.2)\n",
      "    (3): Linear(in_features=512, out_features=1, bias=True)\n",
      "    (4): Sigmoid()\n",
      "  )\n",
      ")\n",
      "torch.Size([64, 1]) torch.Size([64, 16384])\n"
     ]
    }
   ],
   "source": [
    "discriminator = Discriminator()\n",
    "print(discriminator)\n",
    "imgs = torch.randn(64, 3, 64, 64)\n",
    "out, bottleneck = discriminator(imgs)\n",
    "print(out.shape, bottleneck.shape)"
   ]
  },
  {
   "cell_type": "code",
   "execution_count": 43,
   "metadata": {},
   "outputs": [],
   "source": [
    "class VAE_GAN(nn.Module):\n",
    "    def __init__(self):\n",
    "        super(VAE_GAN, self).__init__()\n",
    "        self.encoder = Encoder()\n",
    "        self.decoder = Decoder()\n",
    "        self.discriminator = Discriminator()\n",
    "        \n",
    "    def forward(self, imgs):\n",
    "        batch_size = imgs.shape[0]\n",
    "        mu, logvar = self.encoder(imgs)\n",
    "        sigma = torch.exp(0.5 * logvar)\n",
    "        epsilon = torch.randn_like(sigma)\n",
    "        z = mu + sigma * epsilon\n",
    "        recon_imgs = self.decoder(z)\n",
    "        return mu, logvar, recon_imgs"
   ]
  },
  {
   "cell_type": "code",
   "execution_count": 44,
   "metadata": {},
   "outputs": [
    {
     "name": "stdout",
     "output_type": "stream",
     "text": [
      "torch.Size([64, 128]) torch.Size([64, 128]) torch.Size([64, 3, 128, 128])\n"
     ]
    }
   ],
   "source": [
    "imgs = torch.randn(64, 3, 64, 64)\n",
    "vae_gan = VAE_GAN()\n",
    "mu, logvar, recon_imgs = vae_gan(imgs)\n",
    "print(mu.shape, logvar.shape, recon_imgs.shape)"
   ]
  }
 ],
 "metadata": {
  "interpreter": {
   "hash": "e25e2629558b79608940033d3d6f963da8cb72ba949008c9a3603872092284cb"
  },
  "kernelspec": {
   "display_name": "Python 3.8.6 64-bit ('venv': venv)",
   "language": "python",
   "name": "python3"
  },
  "language_info": {
   "codemirror_mode": {
    "name": "ipython",
    "version": 3
   },
   "file_extension": ".py",
   "mimetype": "text/x-python",
   "name": "python",
   "nbconvert_exporter": "python",
   "pygments_lexer": "ipython3",
   "version": "3.8.6"
  },
  "orig_nbformat": 4
 },
 "nbformat": 4,
 "nbformat_minor": 2
}
