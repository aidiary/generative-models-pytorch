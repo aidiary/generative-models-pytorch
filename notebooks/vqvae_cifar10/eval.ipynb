{
 "cells": [
  {
   "cell_type": "code",
   "execution_count": null,
   "metadata": {},
   "outputs": [],
   "source": [
    "import sys\n",
    "sys.path.append('../../')"
   ]
  },
  {
   "cell_type": "code",
   "execution_count": null,
   "metadata": {},
   "outputs": [],
   "source": [
    "from torch.utils.data import DataLoader\n",
    "from torchvision import datasets\n",
    "from torchvision import transforms\n",
    "from vqvae_cifar10 import VQVAE\n",
    "import numpy as np\n",
    "import matplotlib.pyplot as plt\n",
    "from torchvision.utils import make_grid"
   ]
  },
  {
   "cell_type": "code",
   "execution_count": null,
   "metadata": {},
   "outputs": [],
   "source": [
    "training_data = datasets.CIFAR10(root='../../data',\n",
    "                                 train=True,\n",
    "                                 download=True,\n",
    "                                 transform=transforms.Compose([\n",
    "                                     transforms.ToTensor(),\n",
    "                                     transforms.Normalize((0.5, 0.5, 0.5), (1.0, 1.0, 1.0))\n",
    "                                 ]))\n",
    "\n",
    "validation_data = datasets.CIFAR10(root='../../data',\n",
    "                                   train=False,\n",
    "                                   download=True,\n",
    "                                   transform=transforms.Compose([\n",
    "                                       transforms.ToTensor(),\n",
    "                                       transforms.Normalize((0.5, 0.5, 0.5), (1.0, 1.0, 1.0))\n",
    "                                   ]))\n",
    "\n",
    "training_loader = DataLoader(training_data,\n",
    "                             batch_size=256,\n",
    "                             shuffle=True,\n",
    "                             num_workers=8,\n",
    "                             pin_memory=True)\n",
    "validation_loader = DataLoader(validation_data,\n",
    "                               batch_size=32,\n",
    "                               shuffle=True,\n",
    "                               num_workers=8,\n",
    "                               pin_memory=True)\n"
   ]
  },
  {
   "cell_type": "code",
   "execution_count": null,
   "metadata": {},
   "outputs": [],
   "source": [
    "model = VQVAE.load_from_checkpoint(\n",
    "    '../../lightning_logs/vqvae_cifar10/version_1/checkpoints/epoch=76-step=14999.ckpt',\n",
    "    num_hiddens=128,\n",
    "    num_residual_hiddens=32,\n",
    "    num_residual_layers=2,\n",
    "    num_embeddings=512,\n",
    "    embedding_dim=64,\n",
    "    commitment_cost=0.25)"
   ]
  },
  {
   "cell_type": "markdown",
   "metadata": {},
   "source": [
    "## Reconstruction"
   ]
  },
  {
   "cell_type": "code",
   "execution_count": null,
   "metadata": {},
   "outputs": [],
   "source": [
    "valid_originals, _ = next(iter(validation_loader))\n",
    "_, valid_recons, _ = model(valid_originals)"
   ]
  },
  {
   "cell_type": "code",
   "execution_count": null,
   "metadata": {},
   "outputs": [],
   "source": [
    "valid_recons.shape"
   ]
  },
  {
   "cell_type": "code",
   "execution_count": null,
   "metadata": {},
   "outputs": [],
   "source": [
    "def show(img):\n",
    "    npimg = img.numpy()\n",
    "    fig = plt.figure(figsize=(10, 20))\n",
    "    plt.imshow(np.transpose(npimg, (1, 2, 0)), interpolation='nearest')\n",
    "    plt.axis('off')"
   ]
  },
  {
   "cell_type": "code",
   "execution_count": null,
   "metadata": {},
   "outputs": [],
   "source": [
    "show(make_grid(valid_recons.cpu().data) + 0.5)"
   ]
  },
  {
   "cell_type": "code",
   "execution_count": null,
   "metadata": {},
   "outputs": [],
   "source": [
    "show(make_grid(valid_originals.cpu().data) + 0.5)"
   ]
  }
 ],
 "metadata": {
  "interpreter": {
   "hash": "269a05f21f9d472e9e5e31559938815b8fb99361761e8a3fc4370b626fe386c7"
  },
  "kernelspec": {
   "display_name": "Python 3.8.6 64-bit ('venv': venv)",
   "language": "python",
   "name": "python3"
  },
  "language_info": {
   "codemirror_mode": {
    "name": "ipython",
    "version": 3
   },
   "file_extension": ".py",
   "mimetype": "text/x-python",
   "name": "python",
   "nbconvert_exporter": "python",
   "pygments_lexer": "ipython3",
   "version": "3.8.6"
  },
  "orig_nbformat": 4
 },
 "nbformat": 4,
 "nbformat_minor": 2
}
