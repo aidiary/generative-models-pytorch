{
 "cells": [
  {
   "cell_type": "code",
   "execution_count": null,
   "metadata": {},
   "outputs": [],
   "source": [
    "%load_ext autoreload\n",
    "%autoreload 2"
   ]
  },
  {
   "cell_type": "code",
   "execution_count": null,
   "metadata": {},
   "outputs": [],
   "source": [
    "import sys\n",
    "sys.path.append('..')\n",
    "\n",
    "from vanilla_vae import VanillaVAE\n",
    "from torchvision import transforms\n",
    "from torch.utils.data import DataLoader\n",
    "from torchvision.datasets import CelebA\n",
    "from torchvision.utils import make_grid\n",
    "import matplotlib.pyplot as plt"
   ]
  },
  {
   "cell_type": "code",
   "execution_count": null,
   "metadata": {},
   "outputs": [],
   "source": [
    "checkpoint_path = '../lightning_logs/version_0/checkpoints/epoch=49-step=56499.ckpt'\n",
    "model = VanillaVAE.load_from_checkpoint(checkpoint_path, in_channels=3, latent_dim=128)"
   ]
  },
  {
   "cell_type": "code",
   "execution_count": null,
   "metadata": {},
   "outputs": [],
   "source": [
    "SetRange = transforms.Lambda(lambda x: 2 * x - 1)\n",
    "transform = transforms.Compose([\n",
    "    transforms.RandomHorizontalFlip(),\n",
    "    transforms.CenterCrop(148),\n",
    "    transforms.Resize(64),\n",
    "    transforms.ToTensor(),\n",
    "    SetRange,\n",
    "])\n",
    "\n",
    "val_dataset = CelebA(root='../data', split='train', transform=transform, download=False)\n",
    "val_loader = DataLoader(val_dataset, batch_size=144, num_workers=8, shuffle=True, drop_last=True)"
   ]
  },
  {
   "cell_type": "code",
   "execution_count": null,
   "metadata": {},
   "outputs": [],
   "source": [
    "test_image, test_label = next(iter(val_loader))\n",
    "test_image.shape"
   ]
  },
  {
   "cell_type": "code",
   "execution_count": null,
   "metadata": {},
   "outputs": [],
   "source": [
    "plt.imshow(test_image[1].permute(1, 2, 0));"
   ]
  },
  {
   "cell_type": "code",
   "execution_count": null,
   "metadata": {},
   "outputs": [],
   "source": [
    "result = model.reconstruct(test_image[1].unsqueeze(dim=0))\n",
    "result = (result + 1) / 2.0\n",
    "plt.imshow(result[0].permute(1, 2, 0).detach().numpy());"
   ]
  },
  {
   "cell_type": "code",
   "execution_count": null,
   "metadata": {},
   "outputs": [],
   "source": [
    "img = make_grid(test_image.data, normalize=True, nrow=12)\n",
    "plt.figure(figsize=(12, 12))\n",
    "plt.axis('off')\n",
    "plt.imshow(img.permute(1, 2, 0));"
   ]
  },
  {
   "cell_type": "code",
   "execution_count": null,
   "metadata": {},
   "outputs": [],
   "source": [
    "recon_image = model.reconstruct(test_image)\n",
    "img = make_grid(recon_image.data, normalize=True, nrow=12)\n",
    "plt.figure(figsize=(12, 12))\n",
    "plt.axis('off')\n",
    "plt.imshow(img.permute(1, 2, 0));"
   ]
  },
  {
   "cell_type": "code",
   "execution_count": null,
   "metadata": {},
   "outputs": [],
   "source": [
    "gen_image = model.sample(144)\n",
    "gen_image.shape"
   ]
  },
  {
   "cell_type": "code",
   "execution_count": null,
   "metadata": {},
   "outputs": [],
   "source": [
    "img = make_grid(gen_image.data, normalize=True, nrow=12)\n",
    "plt.figure(figsize=(12, 12))\n",
    "plt.axis('off')\n",
    "plt.imshow(img.permute(1, 2, 0));"
   ]
  }
 ],
 "metadata": {
  "interpreter": {
   "hash": "e25e2629558b79608940033d3d6f963da8cb72ba949008c9a3603872092284cb"
  },
  "kernelspec": {
   "display_name": "Python 3",
   "language": "python",
   "name": "python3"
  },
  "language_info": {
   "codemirror_mode": {
    "name": "ipython",
    "version": 3
   },
   "file_extension": ".py",
   "mimetype": "text/x-python",
   "name": "python",
   "nbconvert_exporter": "python",
   "pygments_lexer": "ipython3",
   "version": "3.8.6"
  }
 },
 "nbformat": 4,
 "nbformat_minor": 4
}
